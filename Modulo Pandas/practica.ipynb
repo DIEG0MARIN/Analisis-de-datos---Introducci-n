{
 "cells": [
  {
   "cell_type": "code",
   "execution_count": null,
   "id": "2bca5aba",
   "metadata": {},
   "outputs": [
    {
     "name": "stdout",
     "output_type": "stream",
     "text": [
      "    imc  glucosa\n",
      "0  33.6      148\n",
      "1  26.6       85\n",
      "2  23.3      183\n",
      "3  28.1       89\n",
      "4  43.1      137\n",
      "5  25.6      116\n",
      "6  31.2       78\n",
      "7  29.5      155\n",
      "8  34.0      199\n",
      "9  30.4       93\n"
     ]
    }
   ],
   "source": [
    "import pandas as pd\n",
    "\n",
    "df = pd.read_csv(\"diabetes_ejemplo.csv\")\n",
    "\n",
    "print(df)\n"
   ]
  },
  {
   "cell_type": "code",
   "execution_count": 3,
   "id": "bd8531b7",
   "metadata": {},
   "outputs": [
    {
     "name": "stdout",
     "output_type": "stream",
     "text": [
      "<bound method NDFrame.head of     imc  glucosa\n",
      "0  33.6      148\n",
      "1  26.6       85\n",
      "2  23.3      183\n",
      "3  28.1       89\n",
      "4  43.1      137\n",
      "5  25.6      116\n",
      "6  31.2       78\n",
      "7  29.5      155\n",
      "8  34.0      199\n",
      "9  30.4       93>\n"
     ]
    }
   ],
   "source": [
    "import pandas as pd\n",
    "\n",
    "df = pd.read_csv(\"diabetes_ejemplo.csv\")\n",
    "\n",
    "print(df.head)"
   ]
  }
 ],
 "metadata": {
  "kernelspec": {
   "display_name": "Python 3",
   "language": "python",
   "name": "python3"
  },
  "language_info": {
   "codemirror_mode": {
    "name": "ipython",
    "version": 3
   },
   "file_extension": ".py",
   "mimetype": "text/x-python",
   "name": "python",
   "nbconvert_exporter": "python",
   "pygments_lexer": "ipython3",
   "version": "3.12.0"
  }
 },
 "nbformat": 4,
 "nbformat_minor": 5
}
