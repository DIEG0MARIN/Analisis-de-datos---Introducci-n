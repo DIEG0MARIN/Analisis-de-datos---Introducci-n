{
 "cells": [
  {
   "cell_type": "code",
   "execution_count": 10,
   "id": "196a764f",
   "metadata": {},
   "outputs": [
    {
     "name": "stdout",
     "output_type": "stream",
     "text": [
      "                             nombre  edad sexo    peso  altura  colesterol\n",
      "0      José Luis Martínez Izquierdo    18    H   850.0     179      1820.0\n",
      "1                    Rosa Díaz Díaz    32    M   650.0     173      2320.0\n",
      "2             Javier García Sánchez    24    H     NaN     181      1910.0\n",
      "3               Carmen López Pinzón    35    M   650.0      17      2000.0\n",
      "4              Marisa López Collado    46    M   510.0     158      1480.0\n",
      "5                 Antonio Ruiz Cruz    68    H   660.0     174      2490.0\n",
      "6           Antonio Fernández Ocaña    51    H   620.0     172      2760.0\n",
      "7             Pilar Martín González    22    M   600.0     166         NaN\n",
      "8              Pedro Gálvez Tenorio    35    H   900.0     194      2410.0\n",
      "9           Santiago Reillo Manzano    46    H   750.0     185      2800.0\n",
      "10            Macarena Álvarez Luna    53    M   550.0     162      2620.0\n",
      "11       José María de la Guía Sanz    58    H   780.0     187      1980.0\n",
      "12  Miguel Angel Cuadrado Gutiérrez    27    H  1090.0     198      2100.0\n",
      "13            Carolina Rubio Moreno    20    M   610.0     177      1940.0\n",
      "Dato 1: El valor en la posición [4, 5] es:\n",
      "1480.0 \n",
      "\n",
      "Dato 2: El valor de la columna 'peso' en la fila 7 es:\n",
      "600.0 \n",
      "\n",
      "Dato 3: Toda la fila 5 es:\n",
      "nombre        Antonio Ruiz Cruz\n",
      "edad                         68\n",
      "sexo                          H\n",
      "peso                      660.0\n",
      "altura                      174\n",
      "colesterol               2490.0\n",
      "Name: 5, dtype: object \n",
      "\n",
      "Dato 4: Fila 2, solo las tres primeras columnas:\n",
      "nombre    Javier García Sánchez\n",
      "edad                         24\n",
      "sexo                          H\n",
      "Name: 2, dtype: object\n"
     ]
    }
   ],
   "source": [
    "import pandas as pd\n",
    "\n",
    "df = pd.read_csv(\"colesterol final.csv\", sep=\";\")\n",
    "\n",
    "print(df)\n",
    "\n",
    "# 📌 Dato 1: El dato en la posición fila 4, columna 5\n",
    "print(\"Dato 1: El valor en la posición [4, 5] es:\")\n",
    "print(df.iloc[4, 5], \"\\n\")\n",
    "\n",
    "# 📌 Dato 2: El valor de la fila 7, columna 'peso'\n",
    "print(\"Dato 2: El valor de la columna 'peso' en la fila 7 es:\")\n",
    "print(df.loc[7, \"peso\"], \"\\n\")\n",
    "\n",
    "# 📌 Dato 3: Mostrar toda la fila 5\n",
    "print(\"Dato 3: Toda la fila 5 es:\")\n",
    "print(df.iloc[5], \"\\n\")\n",
    "\n",
    "# 📌 Dato 4: Mostrar fila 2 con las tres primeras columnas\n",
    "print(\"Dato 4: Fila 2, solo las tres primeras columnas:\")\n",
    "print(df.iloc[2, 0:3])"
   ]
  }
 ],
 "metadata": {
  "kernelspec": {
   "display_name": "Python 3",
   "language": "python",
   "name": "python3"
  },
  "language_info": {
   "codemirror_mode": {
    "name": "ipython",
    "version": 3
   },
   "file_extension": ".py",
   "mimetype": "text/x-python",
   "name": "python",
   "nbconvert_exporter": "python",
   "pygments_lexer": "ipython3",
   "version": "3.12.0"
  }
 },
 "nbformat": 4,
 "nbformat_minor": 5
}
