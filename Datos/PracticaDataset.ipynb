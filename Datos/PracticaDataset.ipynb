{
 "cells": [
  {
   "cell_type": "code",
   "execution_count": 5,
   "id": "058f4df2",
   "metadata": {},
   "outputs": [
    {
     "name": "stdout",
     "output_type": "stream",
     "text": [
      "     gender race/ethnicity parental level of education         lunch  \\\n",
      "0    female        group B           bachelor's degree      standard   \n",
      "1    female        group C                some college      standard   \n",
      "2    female        group B             master's degree      standard   \n",
      "3      male        group A          associate's degree  free/reduced   \n",
      "4      male        group C                some college      standard   \n",
      "..      ...            ...                         ...           ...   \n",
      "995  female        group E             master's degree      standard   \n",
      "996    male        group C                 high school  free/reduced   \n",
      "997  female        group C                 high school  free/reduced   \n",
      "998  female        group D                some college      standard   \n",
      "999  female        group D                some college  free/reduced   \n",
      "\n",
      "    test preparation course  math score  reading score  writing score  \n",
      "0                      none          72             72             74  \n",
      "1                 completed          69             90             88  \n",
      "2                      none          90             95             93  \n",
      "3                      none          47             57             44  \n",
      "4                      none          76             78             75  \n",
      "..                      ...         ...            ...            ...  \n",
      "995               completed          88             99             95  \n",
      "996                    none          62             55             55  \n",
      "997               completed          59             71             65  \n",
      "998               completed          68             78             77  \n",
      "999                    none          77             86             86  \n",
      "\n",
      "[1000 rows x 8 columns]\n"
     ]
    }
   ],
   "source": [
    "import pandas as pd\n",
    "\n",
    "\n",
    "df = pd.read_csv(\"StudentsPerformance.csv\")\n",
    "\n",
    "#print(df.head())\n",
    "\n",
    "print(df)"
   ]
  },
  {
   "cell_type": "code",
   "execution_count": 4,
   "id": "84262473",
   "metadata": {},
   "outputs": [
    {
     "name": "stdout",
     "output_type": "stream",
     "text": [
      "   gender race/ethnicity parental level of education         lunch  \\\n",
      "0  female        group B           bachelor's degree      standard   \n",
      "1  female        group C                some college      standard   \n",
      "2  female        group B             master's degree      standard   \n",
      "3    male        group A          associate's degree  free/reduced   \n",
      "4    male        group C                some college      standard   \n",
      "5  female        group B          associate's degree      standard   \n",
      "6  female        group B                some college      standard   \n",
      "7    male        group B                some college  free/reduced   \n",
      "8    male        group D                 high school  free/reduced   \n",
      "9  female        group B                 high school  free/reduced   \n",
      "\n",
      "  test preparation course  math score  reading score  writing score  \n",
      "0                    none          72             72             74  \n",
      "1               completed          69             90             88  \n",
      "2                    none          90             95             93  \n",
      "3                    none          47             57             44  \n",
      "4                    none          76             78             75  \n",
      "5                    none          71             83             78  \n",
      "6               completed          88             95             92  \n",
      "7                    none          40             43             39  \n",
      "8               completed          64             64             67  \n",
      "9                    none          38             60             50  \n"
     ]
    }
   ],
   "source": [
    "# Mostrar Las primeras 10 filas del DataFrame\n",
    "print(df.head(10))"
   ]
  },
  {
   "cell_type": "code",
   "execution_count": 6,
   "id": "f6bac780",
   "metadata": {},
   "outputs": [
    {
     "name": "stdout",
     "output_type": "stream",
     "text": [
      "Promedio de puntaje en matemáticas: 66.089\n"
     ]
    }
   ],
   "source": [
    "#2.Calcular el promedio de puntaje en matemáticas\n",
    "\n",
    "print(\"Promedio de puntaje en matemáticas:\", df[\"math score\"].mean())   "
   ]
  },
  {
   "cell_type": "code",
   "execution_count": 7,
   "id": "0b4b5c05",
   "metadata": {},
   "outputs": [
    {
     "name": "stdout",
     "output_type": "stream",
     "text": [
      "Suma de todos los puntajes de lectura: 69169\n"
     ]
    }
   ],
   "source": [
    "#3.\tSumar todos los puntajes de lectura\n",
    "\n",
    "print(\"Suma de todos los puntajes de lectura:\", df[\"reading score\"].sum())"
   ]
  },
  {
   "cell_type": "code",
   "execution_count": 8,
   "id": "f73c9a6c",
   "metadata": {},
   "outputs": [
    {
     "name": "stdout",
     "output_type": "stream",
     "text": [
      "Nota más alta en escritura: 100\n",
      "Nota más baja en escritura: 10\n"
     ]
    }
   ],
   "source": [
    "#4.Encontrar la nota más alta y más baja en escritura\n",
    "\n",
    "print(\"Nota más alta en escritura:\", df[\"writing score\"].max())\n",
    "print(\"Nota más baja en escritura:\", df[\"writing score\"].min())"
   ]
  },
  {
   "cell_type": "code",
   "execution_count": 9,
   "id": "eb9b11ec",
   "metadata": {},
   "outputs": [
    {
     "name": "stdout",
     "output_type": "stream",
     "text": [
      "Número de estudiantes con 100 en matemáticas: 7\n"
     ]
    }
   ],
   "source": [
    "#5.Contar cuántos estudiantes tienen 100 en matemáticas\n",
    "\n",
    "print(\"Número de estudiantes con 100 en matemáticas:\", df[df[\"math score\"] == 100].shape[0])"
   ]
  },
  {
   "cell_type": "code",
   "execution_count": 10,
   "id": "1873b2b0",
   "metadata": {},
   "outputs": [
    {
     "name": "stdout",
     "output_type": "stream",
     "text": [
      "Promedio de puntajes por género:\n"
     ]
    },
    {
     "data": {
      "text/html": [
       "<div>\n",
       "<style scoped>\n",
       "    .dataframe tbody tr th:only-of-type {\n",
       "        vertical-align: middle;\n",
       "    }\n",
       "\n",
       "    .dataframe tbody tr th {\n",
       "        vertical-align: top;\n",
       "    }\n",
       "\n",
       "    .dataframe thead th {\n",
       "        text-align: right;\n",
       "    }\n",
       "</style>\n",
       "<table border=\"1\" class=\"dataframe\">\n",
       "  <thead>\n",
       "    <tr style=\"text-align: right;\">\n",
       "      <th></th>\n",
       "      <th>math score</th>\n",
       "      <th>reading score</th>\n",
       "      <th>writing score</th>\n",
       "    </tr>\n",
       "    <tr>\n",
       "      <th>gender</th>\n",
       "      <th></th>\n",
       "      <th></th>\n",
       "      <th></th>\n",
       "    </tr>\n",
       "  </thead>\n",
       "  <tbody>\n",
       "    <tr>\n",
       "      <th>female</th>\n",
       "      <td>63.633205</td>\n",
       "      <td>72.608108</td>\n",
       "      <td>72.467181</td>\n",
       "    </tr>\n",
       "    <tr>\n",
       "      <th>male</th>\n",
       "      <td>68.728216</td>\n",
       "      <td>65.473029</td>\n",
       "      <td>63.311203</td>\n",
       "    </tr>\n",
       "  </tbody>\n",
       "</table>\n",
       "</div>"
      ],
      "text/plain": [
       "        math score  reading score  writing score\n",
       "gender                                          \n",
       "female   63.633205      72.608108      72.467181\n",
       "male     68.728216      65.473029      63.311203"
      ]
     },
     "execution_count": 10,
     "metadata": {},
     "output_type": "execute_result"
    }
   ],
   "source": [
    "#6.Calcular el promedio de puntajes por género\n",
    "\n",
    "print(\"Promedio de puntajes por género:\")\n",
    "df.groupby(\"gender\")[[\"math score\", \"reading score\", \"writing score\"]].mean()"
   ]
  },
  {
   "cell_type": "code",
   "execution_count": 11,
   "id": "81f4e3f7",
   "metadata": {},
   "outputs": [
    {
     "name": "stdout",
     "output_type": "stream",
     "text": [
      "Número de estudiantes por grupo étnico:\n",
      "race/ethnicity\n",
      "group C    319\n",
      "group D    262\n",
      "group B    190\n",
      "group E    140\n",
      "group A     89\n",
      "Name: count, dtype: int64\n"
     ]
    }
   ],
   "source": [
    "#7.Contar cuántos estudiantes hay por grupo étnico (race/ethnicity)\n",
    "\n",
    "print(\"Número de estudiantes por grupo étnico:\")\n",
    "print(df[\"race/ethnicity\"].value_counts())\n"
   ]
  },
  {
   "cell_type": "code",
   "execution_count": 12,
   "id": "0900fdb8",
   "metadata": {},
   "outputs": [
    {
     "name": "stdout",
     "output_type": "stream",
     "text": [
      "Número de estudiantes que completaron preparatoria: 196\n"
     ]
    }
   ],
   "source": [
    "#8.\tSaber cuántos estudiantes completaron preparatoria\n",
    "\n",
    "print(\"Número de estudiantes que completaron preparatoria:\", df[df[\"parental level of education\"] == \"high school\"].shape[0])"
   ]
  },
  {
   "cell_type": "code",
   "execution_count": 17,
   "id": "42dde559",
   "metadata": {},
   "outputs": [
    {
     "name": "stdout",
     "output_type": "stream",
     "text": [
      "✅ Columna total score :\n",
      "0      218\n",
      "1      247\n",
      "2      278\n",
      "3      148\n",
      "4      229\n",
      "      ... \n",
      "995    282\n",
      "996    172\n",
      "997    195\n",
      "998    223\n",
      "999    249\n",
      "Name: total score, Length: 1000, dtype: int64\n"
     ]
    }
   ],
   "source": [
    "#9.\tCrear una columna \"total score\" sumando math + reading + writing\n",
    "\n",
    "df[\"total score\"] = df[\"math score\"] + df[\"reading score\"] + df[\"writing score\"]\n",
    "\n",
    "print(\"✅ Columna total score :\")\n",
    "print(df[\"total score\"])"
   ]
  },
  {
   "cell_type": "code",
   "execution_count": 20,
   "id": "a4047e56",
   "metadata": {},
   "outputs": [
    {
     "name": "stdout",
     "output_type": "stream",
     "text": [
      "✅ Columna desempeño :\n",
      "0          Bueno\n",
      "1          Bueno\n",
      "2      Excelente\n",
      "3        Regular\n",
      "4          Bueno\n",
      "         ...    \n",
      "995    Excelente\n",
      "996      Regular\n",
      "997      Regular\n",
      "998        Bueno\n",
      "999        Bueno\n",
      "Name: desempeño, Length: 1000, dtype: category\n",
      "Categories (3, object): ['Regular' < 'Bueno' < 'Excelente']\n"
     ]
    }
   ],
   "source": [
    "df[\"desempeño\"] = pd.cut(df[\"total score\"],\n",
    "                         bins=[-1, 209, 269, float('inf')],\n",
    "                         labels=[\"Regular\", \"Bueno\", \"Excelente\"])\n",
    "print(\"✅ Columna desempeño :\")\n",
    "print(df[\"desempeño\"])"
   ]
  }
 ],
 "metadata": {
  "kernelspec": {
   "display_name": "Python 3",
   "language": "python",
   "name": "python3"
  },
  "language_info": {
   "codemirror_mode": {
    "name": "ipython",
    "version": 3
   },
   "file_extension": ".py",
   "mimetype": "text/x-python",
   "name": "python",
   "nbconvert_exporter": "python",
   "pygments_lexer": "ipython3",
   "version": "3.12.0"
  }
 },
 "nbformat": 4,
 "nbformat_minor": 5
}
